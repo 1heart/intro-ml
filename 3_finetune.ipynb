{
 "cells": [
  {
   "cell_type": "markdown",
   "metadata": {},
   "source": [
    "# Fine-tuning a model\n",
    "\n",
    "I want you to figure out how to use a pretrained model and Keras to build an image classifier that can classify any set of categories you want."
   ]
  },
  {
   "cell_type": "code",
   "execution_count": 1,
   "metadata": {
    "collapsed": false
   },
   "outputs": [
    {
     "name": "stderr",
     "output_type": "stream",
     "text": [
      "Using TensorFlow backend.\n"
     ]
    }
   ],
   "source": [
    "import keras"
   ]
  },
  {
   "cell_type": "markdown",
   "metadata": {},
   "source": [
    "VGG is an image classifier pretrained on the ImageNet dataset (a large dataset of many categories). This is how you load it:"
   ]
  },
  {
   "cell_type": "code",
   "execution_count": 2,
   "metadata": {
    "collapsed": false
   },
   "outputs": [],
   "source": [
    "from keras.applications.vgg16 import VGG16, preprocess_input, decode_predictions\n",
    "vgg = VGG16(weights='imagenet', include_top=False)"
   ]
  },
  {
   "cell_type": "markdown",
   "metadata": {},
   "source": [
    "Here's one of many potential ways to get a new model from VGG which can classify arbitrary numbers of categories:"
   ]
  },
  {
   "cell_type": "code",
   "execution_count": 3,
   "metadata": {
    "collapsed": false
   },
   "outputs": [],
   "source": [
    "from keras.layers import Dense\n",
    "from keras.models import Model\n",
    "\n",
    "num_categories = 2\n",
    "\n",
    "for layer in vgg.layers: layer.trainable=False\n",
    "new_output = Dense(num_categories, activation='softmax')(vgg.output)\n",
    "model = Model(inputs=vgg.input, outputs=new_output)\n",
    "model.compile(optimizer='adam',\n",
    "                loss='categorical_crossentropy', metrics=['accuracy'])"
   ]
  },
  {
   "cell_type": "markdown",
   "metadata": {},
   "source": [
    "Now, all you need to do is figure out how to download the new dataset (a good one to try may be Kaggle dataset of [Dogs vs. Cats](https://www.kaggle.com/c/dogs-vs-cats/data)), load the data, and fit to the new dataset. You'll find the ideas from [this blogpost](https://blog.keras.io/building-powerful-image-classification-models-using-very-little-data.html) with [associated code](https://gist.github.com/fchollet/7eb39b44eb9e16e59632d25fb3119975) as well as [this tutorial](https://github.com/fastai/courses/blob/master/deeplearning1/nbs/lesson1.ipynb) very useful. Good luck!"
   ]
  },
  {
   "cell_type": "code",
   "execution_count": null,
   "metadata": {
    "collapsed": true
   },
   "outputs": [],
   "source": []
  }
 ],
 "metadata": {
  "kernelspec": {
   "display_name": "Python 3",
   "language": "python",
   "name": "python3"
  },
  "language_info": {
   "codemirror_mode": {
    "name": "ipython",
    "version": 3
   },
   "file_extension": ".py",
   "mimetype": "text/x-python",
   "name": "python",
   "nbconvert_exporter": "python",
   "pygments_lexer": "ipython3",
   "version": "3.5.1"
  }
 },
 "nbformat": 4,
 "nbformat_minor": 1
}
